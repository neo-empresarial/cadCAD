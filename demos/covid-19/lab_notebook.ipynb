{
 "cells": [
  {
   "cell_type": "markdown",
   "metadata": {},
   "source": [
    "# Covid-19 Lab Notebook\n",
    "\n",
    "(to edit this notebook and the associated python files, `git checkout` the corresponding commit by its hash, eg. `git checkout 422024d`)"
   ]
  },
  {
   "cell_type": "code",
   "execution_count": 1,
   "metadata": {},
   "outputs": [
    {
     "data": {
      "text/markdown": [
       "# 25/Jun/2020 11:16"
      ],
      "text/plain": [
       "<IPython.core.display.Markdown object>"
      ]
     },
     "metadata": {},
     "output_type": "display_data"
    }
   ],
   "source": [
    "from IPython.display import display, Markdown\n",
    "from datetime import datetime\n",
    "cur_datetime = datetime.now()\n",
    "display(Markdown(f'# {cur_datetime.strftime(\"%d/%b/%Y %H:%M\")}'))"
   ]
  },
  {
   "cell_type": "markdown",
   "metadata": {},
   "source": [
    "# Covid-19 model dynamics on SD\n",
    "\n",
    "On this notebook, we'll explore and visualize multiple models of covid-19 behavior in a dynamic system approach. The models were written on cadCAD - a library for Complex Adaptive Dynamics simulations which allows you to mix and prototype \n",
    "different modelling paradigms in a reproducible and consistent manner.\n",
    "\n",
    "Differently from other data processing methods, e.g. machine learning models, where the objective is to predict outputs based on previous information, working with cadCAD allows us to pursue a different goal. As it works with dynamic simulations, we aim to create a range of possible future scenarios for Covid-19's spread according to the behavior of epidemiological parameters."
   ]
  },
  {
   "cell_type": "code",
   "execution_count": 2,
   "metadata": {},
   "outputs": [],
   "source": [
    "%%capture\n",
    "%matplotlib inline\n",
    "\n",
    "# Dependences\n",
    "from time import time\n",
    "import matplotlib.pyplot as plt\n",
    "import seaborn as sns\n",
    "import pandas as pd\n",
    "import numpy as np\n",
    "\n",
    "# Experiments\n",
    "import run"
   ]
  },
  {
   "cell_type": "code",
   "execution_count": 3,
   "metadata": {},
   "outputs": [
    {
     "name": "stdout",
     "output_type": "stream",
     "text": [
      "Configurations Length: 3\n",
      "Execution Method: parallelize_simulations\n",
      "Execution Mode: parallelized\n"
     ]
    },
    {
     "ename": "ValueError",
     "evalue": "too many values to unpack (expected 2)",
     "output_type": "error",
     "traceback": [
      "\u001b[1;31m---------------------------------------------------------------------------\u001b[0m",
      "\u001b[1;31mValueError\u001b[0m                                Traceback (most recent call last)",
      "\u001b[1;32m<ipython-input-3-1fa93129baf3>\u001b[0m in \u001b[0;36m<module>\u001b[1;34m\u001b[0m\n\u001b[0;32m      2\u001b[0m \u001b[1;31m# Tweak the prey_predator_abm/sim_params.py file if you want it to take longer (or not).\u001b[0m\u001b[1;33m\u001b[0m\u001b[1;33m\u001b[0m\u001b[1;33m\u001b[0m\u001b[0m\n\u001b[0;32m      3\u001b[0m \u001b[0mstart_time\u001b[0m \u001b[1;33m=\u001b[0m \u001b[0mtime\u001b[0m\u001b[1;33m(\u001b[0m\u001b[1;33m)\u001b[0m\u001b[1;33m\u001b[0m\u001b[1;33m\u001b[0m\u001b[0m\n\u001b[1;32m----> 4\u001b[1;33m \u001b[0mexperiments\u001b[0m \u001b[1;33m=\u001b[0m \u001b[0mrun\u001b[0m\u001b[1;33m.\u001b[0m\u001b[0mrun\u001b[0m\u001b[1;33m(\u001b[0m\u001b[1;33m)\u001b[0m\u001b[1;33m\u001b[0m\u001b[1;33m\u001b[0m\u001b[0m\n\u001b[0m\u001b[0;32m      5\u001b[0m \u001b[0mend_time\u001b[0m \u001b[1;33m=\u001b[0m \u001b[0mtime\u001b[0m\u001b[1;33m(\u001b[0m\u001b[1;33m)\u001b[0m\u001b[1;33m\u001b[0m\u001b[1;33m\u001b[0m\u001b[0m\n\u001b[0;32m      6\u001b[0m \u001b[0mprint\u001b[0m\u001b[1;33m(\u001b[0m\u001b[1;34m\"Execution in {:.1f}s\"\u001b[0m\u001b[1;33m.\u001b[0m\u001b[0mformat\u001b[0m\u001b[1;33m(\u001b[0m\u001b[0mend_time\u001b[0m \u001b[1;33m-\u001b[0m \u001b[0mstart_time\u001b[0m\u001b[1;33m)\u001b[0m\u001b[1;33m)\u001b[0m\u001b[1;33m\u001b[0m\u001b[1;33m\u001b[0m\u001b[0m\n",
      "\u001b[1;32m~\\Desktop\\NEO\\BS001\\cadCAD\\demos\\covid-19\\run.py\u001b[0m in \u001b[0;36mrun\u001b[1;34m(drop_midsteps)\u001b[0m\n\u001b[0;32m     24\u001b[0m     \u001b[0mresults\u001b[0m \u001b[1;33m=\u001b[0m \u001b[0mpd\u001b[0m\u001b[1;33m.\u001b[0m\u001b[0mDataFrame\u001b[0m\u001b[1;33m(\u001b[0m\u001b[1;33m)\u001b[0m\u001b[1;33m\u001b[0m\u001b[1;33m\u001b[0m\u001b[0m\n\u001b[0;32m     25\u001b[0m     \u001b[0mi\u001b[0m \u001b[1;33m=\u001b[0m \u001b[1;36m0\u001b[0m\u001b[1;33m\u001b[0m\u001b[1;33m\u001b[0m\u001b[0m\n\u001b[1;32m---> 26\u001b[1;33m     \u001b[1;32mfor\u001b[0m \u001b[0mraw_result\u001b[0m\u001b[1;33m,\u001b[0m \u001b[0m_\u001b[0m \u001b[1;32min\u001b[0m \u001b[0mrun\u001b[0m\u001b[1;33m.\u001b[0m\u001b[0mexecute\u001b[0m\u001b[1;33m(\u001b[0m\u001b[1;33m)\u001b[0m\u001b[1;33m:\u001b[0m\u001b[1;33m\u001b[0m\u001b[1;33m\u001b[0m\u001b[0m\n\u001b[0m\u001b[0;32m     27\u001b[0m         \u001b[0mparams\u001b[0m \u001b[1;33m=\u001b[0m \u001b[0mconfigs\u001b[0m\u001b[1;33m[\u001b[0m\u001b[0mi\u001b[0m\u001b[1;33m]\u001b[0m\u001b[1;33m.\u001b[0m\u001b[0msim_config\u001b[0m\u001b[1;33m[\u001b[0m\u001b[1;34m'M'\u001b[0m\u001b[1;33m]\u001b[0m\u001b[1;33m\u001b[0m\u001b[1;33m\u001b[0m\u001b[0m\n\u001b[0;32m     28\u001b[0m         \u001b[0mresult_record\u001b[0m \u001b[1;33m=\u001b[0m \u001b[0mpd\u001b[0m\u001b[1;33m.\u001b[0m\u001b[0mDataFrame\u001b[0m\u001b[1;33m.\u001b[0m\u001b[0mfrom_records\u001b[0m\u001b[1;33m(\u001b[0m\u001b[1;33m[\u001b[0m\u001b[0mtuple\u001b[0m\u001b[1;33m(\u001b[0m\u001b[1;33m[\u001b[0m\u001b[0mi\u001b[0m \u001b[1;32mfor\u001b[0m \u001b[0mi\u001b[0m \u001b[1;32min\u001b[0m \u001b[0mparams\u001b[0m\u001b[1;33m.\u001b[0m\u001b[0mvalues\u001b[0m\u001b[1;33m(\u001b[0m\u001b[1;33m)\u001b[0m\u001b[1;33m]\u001b[0m\u001b[1;33m)\u001b[0m\u001b[1;33m]\u001b[0m\u001b[1;33m,\u001b[0m \u001b[0mcolumns\u001b[0m\u001b[1;33m=\u001b[0m\u001b[0mlist\u001b[0m\u001b[1;33m(\u001b[0m\u001b[0mparams\u001b[0m\u001b[1;33m.\u001b[0m\u001b[0mkeys\u001b[0m\u001b[1;33m(\u001b[0m\u001b[1;33m)\u001b[0m\u001b[1;33m)\u001b[0m\u001b[1;33m)\u001b[0m\u001b[1;33m\u001b[0m\u001b[1;33m\u001b[0m\u001b[0m\n",
      "\u001b[1;31mValueError\u001b[0m: too many values to unpack (expected 2)"
     ]
    }
   ],
   "source": [
    "# Run all experiments. Typical run duration for an Core-i3 laptop is about 2-3min.\n",
    "# Tweak the prey_predator_abm/sim_params.py file if you want it to take longer (or not).\n",
    "start_time = time()\n",
    "experiments = run.run()\n",
    "end_time = time()\n",
    "print(\"Execution in {:.1f}s\".format(end_time - start_time))"
   ]
  },
  {
   "cell_type": "markdown",
   "metadata": {},
   "source": [
    "# Covid-19 SIR model\n",
    "\n",
    "In order to create a mathematical representation of Covid-19's spread, we will use compartmental models of infectious diseases. These models assign the system's population to compartments with labels that represent different states where the individuals can be, and the order of the labels shows the flow patterns between these compartments. As described in Wikipedia,\n",
    "\n",
    "> \"[Compartmental] models try to predict things such as how a disease spreads, or the total number infected, or the duration of an epidemic, and to estimate various epidemiological parameters such as the reproductive number. Such models can show how different public health interventions may affect the outcome of the epidemic, e.g., what the most efficient technique is for issuing a limited number of vaccines in a given population.\"\n",
    "\n",
    "You can find more information about compartmental models on Wikipedia's page: https://en.wikipedia.org/wiki/Compartmental_models_in_epidemiology.\n",
    "\n",
    "The simplest compartmental model is SIR, which consists of three compartments:\n",
    "- **S**usceptible: The number of individuals at risk of contracting the disease;\n",
    "- **I**nfectious: The number of individuals who have been infected and are capable of infecting susceptible individuals;\n",
    "- **R**ecovered: The number of individuals who have been infected and have recovered from the disease.\n",
    "\n",
    "As SIR is a very simple model, **it considers that the disease's death rate is negligible**.\n",
    "\n",
    "The SIR model can be expressed by the following ordinary differential equations:\n",
    "\n",
    "\\begin{aligned}{\\frac {d}{dt}Susceptible}&= - \\beta * Infected * {\\frac {Susceptible}{Total Population}}\n",
    "\\\\{\\frac{d}{dt}Infected}&=\\beta * Infected * \\frac {Susceptible}{Total Population} -\\gamma * Infected\n",
    "\\\\{\\frac {d}{dt}Recovered}&=\\gamma *Infected\\end{aligned}\n",
    "\n",
    "Where the parameters are:\n",
    "- **Infection rate** ($\\beta$): expected amount of people an infected person infects per day\n",
    "- **Recovering rate** ($\\gamma$): the proportion of infected recovering per day ($\\gamma$ = 1 / recovery time in days)\n",
    "\n",
    "The ratio between $\\beta$ and $\\gamma$ results on the **basic reproductive number ($R₀$)**, a very important parameter that determines **how contagious is a disease**. As said in Wikipedia,\n",
    "\n",
    "> \"[The reproductive number] of an infection can be thought of as the expected number of cases directly generated by one case in a population where all individuals are susceptible to infection. The definition describes the state where no other individuals are infected or immunized (naturally or through vaccination).\"\n",
    "\n",
    "You can find more information about $R₀$ on Wikipedia's page: https://en.wikipedia.org/wiki/Basic_reproduction_number.\n",
    "\n",
    "In the first model built, the definition of parameters is up to the user and they are not time dependent, i.e., we have a deterministic system. This means that if we make a simulation with the same initial populations and parameters 100 times, we will get 100 equal results.\n",
    "\n",
    "Evidently, this is not how real world works and it will not allow us to reach our goal of creating multiple spread scenarios, so it's quite important that stochasticity is added to the model."
   ]
  },
  {
   "cell_type": "markdown",
   "metadata": {},
   "source": [
    "## SIR model stock and flow diagram\n",
    "Before properly building the model, it's essential to graphically represent it so that our problem is conceptually understood.\n",
    "\n",
    "The following stock and flow diagram shows how the information flows through the SIR model stocks of populations.\n",
    "\n",
    "![covid-19 SIR model mechanism](images/covid-19_sir_model_stock_flow.png)"
   ]
  },
  {
   "cell_type": "markdown",
   "metadata": {},
   "source": [
    "## Covid-19 SIR model mechanism\n",
    "\n",
    "As we are initially building a model with considerably low complexity, we will not consider exogenous process (at least for now). One example of exogenous process that impacts Covid-19's populations is the availability of hospital beds. If the hospitals in some certain location are overcrowded, the disease's death rate may increase.\n",
    "\n",
    "In this model, the behaviors of the SIR model are simply going to be **infected and recovered growth**, as those are the two phenomena controlled by us (as seen in the equations, the susceptible population only changes by infected growth, so there's no behavior related to susceptible growth).\n",
    "\n",
    "The infected growth causes a decrease in the susceptible population, as previously susceptible individuals became infected; for obvious reasons, it also increases the infected population.\n",
    "\n",
    "Similarly, the recovered growth causes a decrease in the infected population, as previously infected individuals became recovered, and it increases the recovered population."
   ]
  },
  {
   "cell_type": "markdown",
   "metadata": {},
   "source": [
    "![covid-19 SIR model mechanism](images/covid-19_sir_model.png)"
   ]
  },
  {
   "cell_type": "markdown",
   "metadata": {},
   "source": [
    "The model's simulation was created given the following parameters and initial state variables:\n",
    "- **Infection rate** ( $\\beta$ ): 0.5 (this means an infected individual infects other individual every two days);\n",
    "- **Recovering rate** ($\\gamma$): 0.07 (as 𝛾 = 1 / recovery time, this parameter is calculated using an average recovery time of 14 days. So, $\\gamma$ = 1 / 14 $\\approx$ 0.07);\n",
    "- **Reproductive number** ($R₀$): $\\beta$ / $\\gamma$ $\\approx$ 7.14; \n",
    "- **Susceptible population**: 990;\n",
    "- **Infected population**: 10;\n",
    "- **Recovered population**: 0.\n",
    "\n",
    "When plotting a graph of the population evolution over time, some relevant observations can be done:\n",
    "- In the first 20 timesteps, the susceptible population decreases drastically until it reaches zero;\n",
    "- The infected population grows until it reaches its peak a little before timestep 20. Afterwards, it decreases until it reaches zero;\n",
    "- The recovered population doesn't grow at such high rates in the beggining, which is explained by the average recovering time used in $\\gamma$. From timestep 15, it acquires a logarithmic tendency, until all the population is considered recovered.\n",
    "\n",
    "The system's behavior is close to expected, as susceptible population's low matches infected population's peak and recovered population's gets close to its peak around 15 days after infected's peak."
   ]
  },
  {
   "cell_type": "code",
   "execution_count": 1,
   "metadata": {
    "scrolled": false
   },
   "outputs": [
    {
     "ename": "NameError",
     "evalue": "name 'experiments' is not defined",
     "output_type": "error",
     "traceback": [
      "\u001b[1;31m---------------------------------------------------------------------------\u001b[0m",
      "\u001b[1;31mNameError\u001b[0m                                 Traceback (most recent call last)",
      "\u001b[1;32m<ipython-input-1-cb45b706dd6c>\u001b[0m in \u001b[0;36m<module>\u001b[1;34m\u001b[0m\n\u001b[1;32m----> 1\u001b[1;33m \u001b[0mdf\u001b[0m \u001b[1;33m=\u001b[0m \u001b[0mexperiments\u001b[0m\u001b[1;33m.\u001b[0m\u001b[0mdataset\u001b[0m\u001b[1;33m[\u001b[0m\u001b[1;36m0\u001b[0m\u001b[1;33m]\u001b[0m\u001b[1;33m\u001b[0m\u001b[1;33m\u001b[0m\u001b[0m\n\u001b[0m\u001b[0;32m      2\u001b[0m \u001b[0mplt\u001b[0m\u001b[1;33m.\u001b[0m\u001b[0mrcParams\u001b[0m\u001b[1;33m[\u001b[0m\u001b[1;34m\"figure.figsize\"\u001b[0m\u001b[1;33m]\u001b[0m\u001b[1;33m=\u001b[0m\u001b[1;36m20\u001b[0m\u001b[1;33m,\u001b[0m\u001b[1;36m5\u001b[0m\u001b[1;33m\u001b[0m\u001b[1;33m\u001b[0m\u001b[0m\n\u001b[0;32m      3\u001b[0m \u001b[0mfig\u001b[0m\u001b[1;33m,\u001b[0m \u001b[0max\u001b[0m \u001b[1;33m=\u001b[0m \u001b[0mplt\u001b[0m\u001b[1;33m.\u001b[0m\u001b[0msubplots\u001b[0m\u001b[1;33m(\u001b[0m\u001b[1;33m)\u001b[0m\u001b[1;33m\u001b[0m\u001b[1;33m\u001b[0m\u001b[0m\n\u001b[0;32m      4\u001b[0m \u001b[0max\u001b[0m\u001b[1;33m.\u001b[0m\u001b[0mplot\u001b[0m\u001b[1;33m(\u001b[0m\u001b[0mdf\u001b[0m\u001b[1;33m[\u001b[0m\u001b[1;34m'timestep'\u001b[0m\u001b[1;33m]\u001b[0m\u001b[1;33m,\u001b[0m \u001b[0mdf\u001b[0m\u001b[1;33m[\u001b[0m\u001b[1;34m'susceptible'\u001b[0m\u001b[1;33m]\u001b[0m\u001b[1;33m,\u001b[0m \u001b[0mlabel\u001b[0m\u001b[1;33m=\u001b[0m\u001b[1;34m'susceptible'\u001b[0m  \u001b[1;33m)\u001b[0m\u001b[1;33m\u001b[0m\u001b[1;33m\u001b[0m\u001b[0m\n\u001b[0;32m      5\u001b[0m \u001b[0max\u001b[0m\u001b[1;33m.\u001b[0m\u001b[0mplot\u001b[0m\u001b[1;33m(\u001b[0m\u001b[0mdf\u001b[0m\u001b[1;33m[\u001b[0m\u001b[1;34m'timestep'\u001b[0m\u001b[1;33m]\u001b[0m\u001b[1;33m,\u001b[0m \u001b[0mdf\u001b[0m\u001b[1;33m[\u001b[0m\u001b[1;34m'infected'\u001b[0m\u001b[1;33m]\u001b[0m\u001b[1;33m,\u001b[0m \u001b[0mlabel\u001b[0m\u001b[1;33m=\u001b[0m\u001b[1;34m'infected'\u001b[0m   \u001b[1;33m)\u001b[0m\u001b[1;33m\u001b[0m\u001b[1;33m\u001b[0m\u001b[0m\n",
      "\u001b[1;31mNameError\u001b[0m: name 'experiments' is not defined"
     ]
    }
   ],
   "source": [
    "df = experiments.dataset[0] \n",
    "plt.rcParams[\"figure.figsize\"]=20,5\n",
    "fig, ax = plt.subplots()\n",
    "ax.plot(df['timestep'], df['susceptible'], label='susceptible'  )\n",
    "ax.plot(df['timestep'], df['infected'], label='infected'   )\n",
    "ax.plot(df['timestep'], df['recovered'], label='recovered')\n",
    "box = ax.get_position()\n",
    "ax.set_position([box.x0, box.y0, box.width * 0.8, box.height])\n",
    "\n",
    "# Put a legend to the right of the current axis\n",
    "ax.legend(loc='center left', bbox_to_anchor=(1, 0.5))\n",
    "ax.set_xlabel(\"Time (days)\")\n",
    "ax.set_ylabel(\"People\")\n",
    "plt.show()"
   ]
  },
  {
   "cell_type": "markdown",
   "metadata": {},
   "source": [
    "# Covid-19 SEIR model\n",
    "\n",
    "The SIR model can give us a decent analysis on the behavior of an infectious disease, but its simplicity limitates it. As many infections, Covid-19 has a significant incubation period during which individuals have been infected but neither show symptoms nor are capable of infecting other individuals. Because of that, the **SEIR** model can represent it in a better way.\n",
    "\n",
    "\n",
    "The SEIR model is described by the following equations:\n",
    "\n",
    "\\begin{aligned}{\\frac {d}{dt}Susceptible}&= - \\beta * Infected * {\\frac {Susceptible}{Total Population}}\n",
    "\\\\{\\frac {d}{dt}Exposed}&=\\beta * Infected * {\\frac {Susceptible}{Total Population}} - \\delta * Exposed \n",
    "\\\\{\\frac{d}{dt}Infected}&=\\delta * Exposed - \\gamma * Infected\n",
    "\\\\{\\frac {d}{dt}Recovered}&=\\gamma*Infected\n",
    "\\end{aligned}\n",
    "\n",
    "Where the parameters are:\n",
    "- **Infection rate** ($\\beta$): expected amount of people an infected person infects per day\n",
    "- **Recovering rate** ($\\gamma$): the proportion of infected people recovering per day ($\\gamma$ = 1 / recovery time in days)\n",
    "- **Exposure rate** ($\\delta$): expected rate that exposed people turn into infected ($\\delta$ = 1 / incubation period in days)\n",
    "\n",
    "As seen above, SEIR also considers the disease's death rate negligible. It's also notable that it has very similar equations to SIR. Besides adding an equation that represents the exposed population, SEIR also has differences in the infected population equation.\n",
    "\n",
    "While SIR considered the difference between **the amount of individuals infected by and infected person** and the amount of infected individuals recovering per day, SEIR considers the difference between **the amount of exposed individuals turned into infected** and the amount of infected individuals recovering per day.\n",
    "\n",
    "When conceptually analyzing the meaning of each compartment, it becomes very simple to understand this change in the equation.\n"
   ]
  },
  {
   "cell_type": "markdown",
   "metadata": {},
   "source": [
    "## Covid-19 SEIR model stock and flow diagram \n",
    "\n",
    "Differently from SIR model, the population in SEIR doesn't flow directly from the susceptible stock to the infected one. Firstly, the exposed growth makes them flow to the exposed stock; after the incubation period, the infected growth makes them flow to the infected stock and, after the recovery time, the population finally flows to the recovered stock.\n",
    "\n"
   ]
  },
  {
   "cell_type": "markdown",
   "metadata": {},
   "source": [
    "![covid-19 SEIR model mechanism](images/covid-19_seir_model_stock_flow.png)"
   ]
  },
  {
   "cell_type": "markdown",
   "metadata": {},
   "source": [
    "## Covid-19 SEIR model mechanism\n",
    "\n",
    "As seen in the equations and the stock and flow diagram, the difference between both models' mechanisms is that SEIR has an exposed growth behavior that triggers a decrease in the susceptible population and an increase in the exposed population. Besides that, infected growth causes a decrease in the exposed population, differently from SIR, where it decreased the susceptible one. Exogenous processes still weren't added to the model."
   ]
  },
  {
   "cell_type": "markdown",
   "metadata": {},
   "source": [
    "![covid-19 SIR model mechanism](images/covid-19_seir_model.png)"
   ]
  },
  {
   "cell_type": "markdown",
   "metadata": {},
   "source": [
    "The model's simulation was created given the following parameters and initial state variables:\n",
    "- **Infection rate** ( $\\beta$ ): 1 (this means an infected individual infects other individual once a day);\n",
    "- **Recovering rate** ( $\\gamma$ ): 0.25 (differently from SIR model, this parameter is calculated using an average recovery time of 4 days. So, $\\gamma$ = 1 / 4 = 0.25);\n",
    "- **Reproductive number** ($R₀$): $\\beta$ / $\\gamma$ = 4; \n",
    "- **Exposure rate** ($\\delta$): 0.333 (as $\\delta$ = 1 / incubation period in days, this parameter is calculated using an average incubation period of 3 days. So, $\\delta$ = 1 / 3 $\\approx$ 0.333;\n",
    "- **Susceptible population**: 9990;\n",
    "- **Exposed population**: 10;\n",
    "- **Infected population**: 0;\n",
    "- **Recovered population**: 0.\n",
    "\n",
    "As we can see, the parameters are very different from the ones used in SIR's simulation. This was made in order to see the difference this parameters make on the system's behavior. As said in the beggining of the notebook, the differential of using cadCAD is the ability to create varied scenarios of a system.\n",
    "\n",
    "The graph shows some notable differences from the one shown in SIR model:\n",
    "- The susceptible population decreases at low rate for quite longer than on SIR, only begginig to decrease considerably a little before the 20th day and approaching its low around the 35th day;\n",
    "- The exposed population reaches higher rates approximately at the same time that susceptible population begins to decrease, but because of the high $\\delta$ used, the curve is quite flat;\n",
    "- The infected population shows a very similar behavior to exposed's one, with a little \"delay\" (justified by the incubation period) and a higher peak (justified by the lower recovering rate than the exposure rate). It is also much flatter than the presented on SIR, which shows the influence of $\\gamma$ on the system's behavior;\n",
    "- The recovered population reaches its peak considerably before than on SIR, with a much higher growth rate between timesteps 20 and 40."
   ]
  },
  {
   "cell_type": "code",
   "execution_count": null,
   "metadata": {},
   "outputs": [],
   "source": [
    "df = experiments.dataset[1] \n",
    "fig, ax = plt.subplots()\n",
    "plt.rcParams[\"figure.figsize\"]=20,5\n",
    "ax.plot(df['timestep'], df['exposed'], label='exposed')\n",
    "ax.plot(df['timestep'], df['susceptible'], label='susceptible')\n",
    "ax.plot(df['timestep'], df['infected'], label='infected'   )\n",
    "ax.plot(df['timestep'], df['recovered'], label='recovered')\n",
    "box = ax.get_position()\n",
    "ax.set_position([box.x0, box.y0, box.width * 0.8, box.height])\n",
    "\n",
    "# Put a legend to the right of the current axis\n",
    "ax.legend(loc='center left', bbox_to_anchor=(1, 0.5))\n",
    "\n",
    "ax.set_xlabel(\"Time (days)\")\n",
    "ax.set_ylabel(\"People\")\n",
    "plt.show()"
   ]
  },
  {
   "cell_type": "markdown",
   "metadata": {},
   "source": [
    "# Covid-19 SEIRD model\n",
    "\n",
    "As we know, Covid-19 is a disease with a significant death rate (around 5% worldwide). Because of that, SIR and SEIR models can be considerably inaccurate. Therefore, the SEIRD model can better represent Covid-19, as it includes individuals who died because of the disease in compartment **D**.\n",
    "\n",
    "The SEIRD model is based on the following equations:\n",
    "\n",
    "\\begin{aligned}{\\frac {d}{dt}Susceptible}&= - \\beta * Infected * {\\frac {Susceptible}{Total Population}}\n",
    "\\\\{\\frac {d}{dt}Exposed}&=\\beta * Infected * {\\frac {Susceptible}{Total Population}} - \\delta * Exposed \n",
    "\\\\{\\frac{d}{dt}Infected}&=\\delta * Exposed - (1 - \\alpha) * \\gamma * Infected - \\alpha * \\rho * Infected\n",
    "\\\\{\\frac {d}{dt}Recovered}&= (1 - \\alpha) * \\gamma *Infected\n",
    "\\\\{\\frac {d}{dt}Dead}&=\\alpha * \\rho * Infected\\end{aligned}\n",
    "\n",
    "Where the parameters are:\n",
    "- **Infection rate** ($\\beta$): expected amount of people an infected person infects per day\n",
    "- **Recovering rate** ($\\gamma$): the proportion of infected people recovering per day ($\\gamma$ = 1 / recovery time in days)\n",
    "- **Exposure rate** ($\\delta$): expected rate that exposed people turn into infected ($\\delta$ = 1 / incubation period in days)\n",
    "- **Death proportion rate** ($\\rho$): rate at which infected people die per day ($\\rho$ = 1 / days from infection until death)\n",
    "- **Death rate** ($\\alpha$): the probability an infected person has of dying\n",
    "\n",
    "We can again see that the equations are similar to the previous models. Besides including a death population equation, the differences occur in the infected and recovered ones, where **death rate is now considered**."
   ]
  },
  {
   "cell_type": "markdown",
   "metadata": {},
   "source": [
    "## Covid-19 SEIRD model stock and flow diagram \n",
    "\n",
    "The stock and flow diagram shows that, in SEIRD model, the population in the infected stock can flow to two population stocks (dead or recovered)."
   ]
  },
  {
   "cell_type": "markdown",
   "metadata": {},
   "source": [
    "![covid-19 SEIRD model mechanism](images/covid-19_seird_model_stock_flow.png)"
   ]
  },
  {
   "cell_type": "markdown",
   "metadata": {},
   "source": [
    "## Covid-19 SEIRD model mechanism \n",
    "\n",
    "The difference between SEIR and SEIRD mechanisms is simply the addition of a death growth behavior that increases the dead population and decreases the infected population. It's interesting to observe that on SEIRD, we have a mechanism (infected population) that is triggered by three different behaviors, which shows cadCAD'S potential of adding much complexity to a system."
   ]
  },
  {
   "cell_type": "markdown",
   "metadata": {},
   "source": [
    "![covid-19 SEIRD model mechanism](images/covid-19_seird_model.png)"
   ]
  },
  {
   "cell_type": "markdown",
   "metadata": {},
   "source": [
    "The model's simulation was created given the following parameters and initial state variables:\n",
    "- **Infection rate** ( $\\beta$ ): 1;\n",
    "- **Recovering rate** ( $\\gamma$ ): 0.25; \n",
    "- **Exposure rate** ($\\delta$): 0.333;\n",
    "- **Death proportion rate** ($\\rho$): 0.111 (as $\\rho$ = 1 / days from infection until death, this parameter is calculated considering an average time from infection until death of 9 days, so $\\rho$ = 1 / 9 $\\approx$ 0.111;\n",
    "- **Death rate** ($\\alpha$): 0.01 (this means 1% of infected people will die);\n",
    "- **Susceptible population**: 9990;\n",
    "- **Exposed population**: 10;\n",
    "- **Infected population**: 0;\n",
    "- **Recovered population**: 0;\n",
    "- **Dead population**: 0."
   ]
  },
  {
   "cell_type": "code",
   "execution_count": null,
   "metadata": {},
   "outputs": [],
   "source": [
    "df = experiments.dataset[2] \n",
    "fig, ax = plt.subplots()\n",
    "plt.rcParams[\"figure.figsize\"]=20,5\n",
    "ax.plot(df['timestep'], df['exposed'], label='exposed')\n",
    "ax.plot(df['timestep'], df['susceptible'], label='susceptible')\n",
    "ax.plot(df['timestep'], df['infected'], label='infected'   )\n",
    "ax.plot(df['timestep'], df['recovered'], label='recovered')\n",
    "ax.plot(df['timestep'], df['dead'], label='dead')\n",
    "box = ax.get_position()\n",
    "ax.set_position([box.x0, box.y0, box.width * 0.8, box.height])\n",
    "\n",
    "# Put a legend to the right of the current axis\n",
    "ax.legend(loc='center left', bbox_to_anchor=(1, 0.5))\n",
    "\n",
    "ax.set_xlabel(\"Time (days)\")\n",
    "ax.set_ylabel(\"People\")\n",
    "plt.show()"
   ]
  },
  {
   "cell_type": "markdown",
   "metadata": {},
   "source": [
    "### Covid-19 SEIRD model with time variant R₀\n",
    "\n",
    "This is the standard introductory model for Covid-19 spread. It is based on the following equations:\n",
    "\n",
    "\\begin{aligned}{\\frac {d}{dt}Susceptible}&= - \\beta * Infected * {\\frac {Susceptible}{Total Population}}\n",
    "\\\\{\\frac {d}{dt}Exposed}&=\\beta * Infected * {\\frac {Susceptible}{Total Population}} - \\delta * Exposed \n",
    "\\\\{\\frac{d}{dt}Infected}&=\\delta * Exposed - (1 - \\alpha) * \\gamma * Infected - \\alpha * \\rho * Infected\n",
    "\\\\{\\frac {d}{dt}Recovered}&= (1 - \\alpha) * \\gamma *Infected\n",
    "\\\\{\\frac {d}{dt}Dead}&=\\alpha * \\rho * Infected\\end{aligned}\n",
    "\n",
    "Where the parameters are:\n",
    "- $\\beta$ expected amount of people an infected person infects per day\n",
    "- $\\gamma$ the proportion of infected recovering per day ($\\gamma$ = 1 / D)\n",
    "- $\\delta$ expected rate that exposed people turn into infected\n",
    "- $\\rho$ rate at wich infected people die per day ($\\rho$ = 1 / D)\n",
    "- $\\alpha$ death probability\n",
    "- $R₀$: the total number of people an infected person infects (R₀ = β / γ)\n"
   ]
  },
  {
   "cell_type": "code",
   "execution_count": null,
   "metadata": {
    "scrolled": true
   },
   "outputs": [],
   "source": [
    "df = experiments.dataset[3] \n",
    "fig, ax = plt.subplots()\n",
    "plt.rcParams[\"figure.figsize\"]=20,5\n",
    "ax.plot(df['timestep'], df['exposed'], label='exposed')\n",
    "ax.plot(df['timestep'], df['susceptible'], label='susceptible')\n",
    "ax.plot(df['timestep'], df['infected'], label='infected'   )\n",
    "ax.plot(df['timestep'], df['recovered'], label='recovered')\n",
    "ax.plot(df['timestep'], df['dead'], label='dead')\n",
    "box = ax.get_position()\n",
    "ax.set_position([box.x0, box.y0, box.width * 0.8, box.height])\n",
    "\n",
    "# Put a legend to the right of the current axis\n",
    "ax.legend(loc='center left', bbox_to_anchor=(1, 0.5))\n",
    "\n",
    "ax.set_xlabel(\"Time (days)\")\n",
    "ax.set_ylabel(\"People\")\n",
    "plt.show()"
   ]
  },
  {
   "cell_type": "markdown",
   "metadata": {},
   "source": [
    "### Conclusions and final words"
   ]
  },
  {
   "cell_type": "markdown",
   "metadata": {},
   "source": [
    "### Proposed challenges\n",
    "\n",
    "#### Make R₀ time dependent\n",
    "\n",
    "\n",
    "#### Variable death rate\n",
    "\n",
    "\n",
    "\n",
    "#### Stochasticity of the parameters\n",
    "\n",
    "\n",
    "\n",
    "#### Add real data\n",
    "\n"
   ]
  }
 ],
 "metadata": {
  "kernelspec": {
   "display_name": "Python 3",
   "language": "python",
   "name": "python3"
  },
  "language_info": {
   "codemirror_mode": {
    "name": "ipython",
    "version": 3
   },
   "file_extension": ".py",
   "mimetype": "text/x-python",
   "name": "python",
   "nbconvert_exporter": "python",
   "pygments_lexer": "ipython3",
   "version": "3.6.8"
  }
 },
 "nbformat": 4,
 "nbformat_minor": 4
}
