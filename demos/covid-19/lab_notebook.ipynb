{
 "cells": [
  {
   "cell_type": "markdown",
   "metadata": {},
   "source": [
    "# Covid-19 Lab Notebook\n",
    "\n",
    "(to edit this notebook and the associated python files, `git checkout` the corresponding commit by its hash, eg. `git checkout 422024d`)"
   ]
  },
  {
   "cell_type": "code",
   "execution_count": 1,
   "metadata": {},
   "outputs": [
    {
     "data": {
      "text/markdown": [
       "# 24/Jun/2020 11:44"
      ],
      "text/plain": [
       "<IPython.core.display.Markdown object>"
      ]
     },
     "metadata": {},
     "output_type": "display_data"
    }
   ],
   "source": [
    "from IPython.display import display, Markdown\n",
    "from datetime import datetime\n",
    "cur_datetime = datetime.now()\n",
    "display(Markdown(f'# {cur_datetime.strftime(\"%d/%b/%Y %H:%M\")}'))"
   ]
  },
  {
   "cell_type": "markdown",
   "metadata": {},
   "source": [
    "# Covid-19 model dynamics on SD\n",
    "\n",
    "On this notebook, we'll explore and visualize multiple models of covid-19 behavior in a dynamic system approach. The models were written on cadCAD - a library for Complex Adaptive Dynamics simulations which allows you to mix and prototype \n",
    "different modelling paradigms in a reproducible and consistent manner."
   ]
  },
  {
   "cell_type": "code",
   "execution_count": 2,
   "metadata": {},
   "outputs": [],
   "source": [
    "%%capture\n",
    "%matplotlib inline\n",
    "\n",
    "# Dependences\n",
    "from time import time\n",
    "import matplotlib.pyplot as plt\n",
    "import seaborn as sns\n",
    "import pandas as pd\n",
    "import numpy as np\n",
    "\n",
    "# Experiments\n",
    "import run"
   ]
  },
  {
   "cell_type": "code",
   "execution_count": 3,
   "metadata": {},
   "outputs": [
    {
     "name": "stdout",
     "output_type": "stream",
     "text": [
      "Configurations Length: 3\n",
      "Execution Method: parallelize_simulations\n",
      "Execution Mode: parallelized\n"
     ]
    },
    {
     "ename": "ValueError",
     "evalue": "too many values to unpack (expected 2)",
     "output_type": "error",
     "traceback": [
      "\u001b[1;31m---------------------------------------------------------------------------\u001b[0m",
      "\u001b[1;31mValueError\u001b[0m                                Traceback (most recent call last)",
      "\u001b[1;32m<ipython-input-3-1fa93129baf3>\u001b[0m in \u001b[0;36m<module>\u001b[1;34m\u001b[0m\n\u001b[0;32m      2\u001b[0m \u001b[1;31m# Tweak the prey_predator_abm/sim_params.py file if you want it to take longer (or not).\u001b[0m\u001b[1;33m\u001b[0m\u001b[1;33m\u001b[0m\u001b[1;33m\u001b[0m\u001b[0m\n\u001b[0;32m      3\u001b[0m \u001b[0mstart_time\u001b[0m \u001b[1;33m=\u001b[0m \u001b[0mtime\u001b[0m\u001b[1;33m(\u001b[0m\u001b[1;33m)\u001b[0m\u001b[1;33m\u001b[0m\u001b[1;33m\u001b[0m\u001b[0m\n\u001b[1;32m----> 4\u001b[1;33m \u001b[0mexperiments\u001b[0m \u001b[1;33m=\u001b[0m \u001b[0mrun\u001b[0m\u001b[1;33m.\u001b[0m\u001b[0mrun\u001b[0m\u001b[1;33m(\u001b[0m\u001b[1;33m)\u001b[0m\u001b[1;33m\u001b[0m\u001b[1;33m\u001b[0m\u001b[0m\n\u001b[0m\u001b[0;32m      5\u001b[0m \u001b[0mend_time\u001b[0m \u001b[1;33m=\u001b[0m \u001b[0mtime\u001b[0m\u001b[1;33m(\u001b[0m\u001b[1;33m)\u001b[0m\u001b[1;33m\u001b[0m\u001b[1;33m\u001b[0m\u001b[0m\n\u001b[0;32m      6\u001b[0m \u001b[0mprint\u001b[0m\u001b[1;33m(\u001b[0m\u001b[1;34m\"Execution in {:.1f}s\"\u001b[0m\u001b[1;33m.\u001b[0m\u001b[0mformat\u001b[0m\u001b[1;33m(\u001b[0m\u001b[0mend_time\u001b[0m \u001b[1;33m-\u001b[0m \u001b[0mstart_time\u001b[0m\u001b[1;33m)\u001b[0m\u001b[1;33m)\u001b[0m\u001b[1;33m\u001b[0m\u001b[1;33m\u001b[0m\u001b[0m\n",
      "\u001b[1;32m~\\Desktop\\NEO\\BS001\\cadCAD\\demos\\covid-19\\run.py\u001b[0m in \u001b[0;36mrun\u001b[1;34m(drop_midsteps)\u001b[0m\n\u001b[0;32m     24\u001b[0m     \u001b[0mresults\u001b[0m \u001b[1;33m=\u001b[0m \u001b[0mpd\u001b[0m\u001b[1;33m.\u001b[0m\u001b[0mDataFrame\u001b[0m\u001b[1;33m(\u001b[0m\u001b[1;33m)\u001b[0m\u001b[1;33m\u001b[0m\u001b[1;33m\u001b[0m\u001b[0m\n\u001b[0;32m     25\u001b[0m     \u001b[0mi\u001b[0m \u001b[1;33m=\u001b[0m \u001b[1;36m0\u001b[0m\u001b[1;33m\u001b[0m\u001b[1;33m\u001b[0m\u001b[0m\n\u001b[1;32m---> 26\u001b[1;33m     \u001b[1;32mfor\u001b[0m \u001b[0mraw_result\u001b[0m\u001b[1;33m,\u001b[0m \u001b[0m_\u001b[0m \u001b[1;32min\u001b[0m \u001b[0mrun\u001b[0m\u001b[1;33m.\u001b[0m\u001b[0mexecute\u001b[0m\u001b[1;33m(\u001b[0m\u001b[1;33m)\u001b[0m\u001b[1;33m:\u001b[0m\u001b[1;33m\u001b[0m\u001b[1;33m\u001b[0m\u001b[0m\n\u001b[0m\u001b[0;32m     27\u001b[0m         \u001b[0mparams\u001b[0m \u001b[1;33m=\u001b[0m \u001b[0mconfigs\u001b[0m\u001b[1;33m[\u001b[0m\u001b[0mi\u001b[0m\u001b[1;33m]\u001b[0m\u001b[1;33m.\u001b[0m\u001b[0msim_config\u001b[0m\u001b[1;33m[\u001b[0m\u001b[1;34m'M'\u001b[0m\u001b[1;33m]\u001b[0m\u001b[1;33m\u001b[0m\u001b[1;33m\u001b[0m\u001b[0m\n\u001b[0;32m     28\u001b[0m         \u001b[0mresult_record\u001b[0m \u001b[1;33m=\u001b[0m \u001b[0mpd\u001b[0m\u001b[1;33m.\u001b[0m\u001b[0mDataFrame\u001b[0m\u001b[1;33m.\u001b[0m\u001b[0mfrom_records\u001b[0m\u001b[1;33m(\u001b[0m\u001b[1;33m[\u001b[0m\u001b[0mtuple\u001b[0m\u001b[1;33m(\u001b[0m\u001b[1;33m[\u001b[0m\u001b[0mi\u001b[0m \u001b[1;32mfor\u001b[0m \u001b[0mi\u001b[0m \u001b[1;32min\u001b[0m \u001b[0mparams\u001b[0m\u001b[1;33m.\u001b[0m\u001b[0mvalues\u001b[0m\u001b[1;33m(\u001b[0m\u001b[1;33m)\u001b[0m\u001b[1;33m]\u001b[0m\u001b[1;33m)\u001b[0m\u001b[1;33m]\u001b[0m\u001b[1;33m,\u001b[0m \u001b[0mcolumns\u001b[0m\u001b[1;33m=\u001b[0m\u001b[0mlist\u001b[0m\u001b[1;33m(\u001b[0m\u001b[0mparams\u001b[0m\u001b[1;33m.\u001b[0m\u001b[0mkeys\u001b[0m\u001b[1;33m(\u001b[0m\u001b[1;33m)\u001b[0m\u001b[1;33m)\u001b[0m\u001b[1;33m)\u001b[0m\u001b[1;33m\u001b[0m\u001b[1;33m\u001b[0m\u001b[0m\n",
      "\u001b[1;31mValueError\u001b[0m: too many values to unpack (expected 2)"
     ]
    }
   ],
   "source": [
    "# Run all experiments. Typical run duration for an Core-i3 laptop is about 2-3min.\n",
    "# Tweak the prey_predator_abm/sim_params.py file if you want it to take longer (or not).\n",
    "start_time = time()\n",
    "experiments = run.run()\n",
    "end_time = time()\n",
    "print(\"Execution in {:.1f}s\".format(end_time - start_time))"
   ]
  },
  {
   "cell_type": "markdown",
   "metadata": {},
   "source": [
    "# Covid-19 SIR model\n",
    "\n",
    "In order to create a mathematically represent Covid-19's spread, we will use compartmental models of infectious diseases. These models assign the system's population to compartments with labels that represent different states where the individuals can be. The order of the labels usually shows the flow patterns between the compartments. The standard introductory model for it is SIR, which consists of three compartments:\n",
    "- **S**usceptible: The number of individuals at risk of contracting the disease;\n",
    "- **I**nfectious: The number of individuals who have been infected and are capable of infecting susceptible individuals;\n",
    "- **R**ecovered: The number of individuals who have been infected and have recovered from the disease.\n",
    "\n",
    "As SIR is a very simple model, **it considers that the disease's death rate is negligible**.\n",
    "\n",
    "The SIR model can be expressed by the following ordinary differential equations:\n",
    "\n",
    "\\begin{aligned}{\\frac {d}{dt}Susceptible}&= - \\beta * Infected * {\\frac {Susceptible}{Total Population}}\n",
    "\\\\{\\frac{d}{dt}Infected}&=\\beta * Infected * \\frac {Susceptible}{Total Population} -\\gamma * Infected\n",
    "\\\\{\\frac {d}{dt}Recovered}&=\\gamma *Infected\\end{aligned}\n",
    "\n",
    "Where the parameters are:\n",
    "- $\\beta$: expected amount of people an infected person infects per day\n",
    "- $\\gamma$: the proportion of infected recovering per day [$\\gamma$ = 1/recovery time in days]\n",
    "\n"
   ]
  },
  {
   "cell_type": "markdown",
   "metadata": {},
   "source": [
    "## SIR model stock and flow diagram\n",
    "Before properly building the model, it's essential to graphically represent it so that our problem is conceptually understood.\n",
    "\n",
    "The following flowchart shows how the information flows through the SIR model stocks of populations.\n",
    "\n",
    "![covid-19 SIR model mechanism](images/covid-19_sir_model_stock_flow.png)"
   ]
  },
  {
   "cell_type": "markdown",
   "metadata": {},
   "source": [
    "## Covid-19 SIR model mechanism\n",
    "\n",
    "![covid-19 SIR model mechanism](images/covid-19_sir_model.png)"
   ]
  },
  {
   "cell_type": "markdown",
   "metadata": {},
   "source": [
    "As seen in the framework above, the behavior of the SIR model are infected and recovered growth.\n",
    "\n",
    "The infected growth causes a decrease in the suscpetible population, as previously susceptible individuals became infected; for obvious reasons, it also increases the infected population.\n",
    "\n",
    "Similarly, the recovered growth causes a decrease in the infected population, as previously infected individuals became recovered, and it incerases the recovered population."
   ]
  },
  {
   "cell_type": "code",
   "execution_count": null,
   "metadata": {
    "scrolled": true
   },
   "outputs": [],
   "source": [
    "df = experiments.dataset[0] \n",
    "plt.rcParams[\"figure.figsize\"]=20,5\n",
    "fig, ax = plt.subplots()\n",
    "ax.plot(df['timestep'], df['susceptible'], label='susceptible'  )\n",
    "ax.plot(df['timestep'], df['infected'], label='infected'   )\n",
    "ax.plot(df['timestep'], df['recovered'], label='recovered')\n",
    "box = ax.get_position()\n",
    "ax.set_position([box.x0, box.y0, box.width * 0.8, box.height])\n",
    "\n",
    "# Put a legend to the right of the current axis\n",
    "ax.legend(loc='center left', bbox_to_anchor=(1, 0.5))\n",
    "ax.set_xlabel(\"Time (days)\")\n",
    "ax.set_ylabel(\"People\")\n",
    "plt.show()"
   ]
  },
  {
   "cell_type": "markdown",
   "metadata": {},
   "source": [
    "# Covid-19 SEIR model\n",
    "\n",
    "The SIR model can give us a decent analysis on the behavior of an infectious disease, but its simplicity limitates it. As many infections, Covid-19 has a significant incubation period during which individuals have been infected but neither show symptoms nor are capable of infecting other individuals. The SEIR model includes this population in compartment **E** (for Exposed).\n",
    "\n",
    "The SEIR model is described by the following equations:\n",
    "\n",
    "\\begin{aligned}{\\frac {d}{dt}Susceptible}&= - \\beta * Infected * {\\frac {Susceptible}{Total Population}}\n",
    "\\\\{\\frac {d}{dt}Exposed}&=\\beta * Infected * {\\frac {Susceptible}{Total Population}} - \\delta * Exposed \n",
    "\\\\{\\frac{d}{dt}Infected}&=\\delta * Exposed - \\gamma * Infected\n",
    "\\\\{\\frac {d}{dt}Recovered}&=\\gamma*Infected\n",
    "\\end{aligned}\n",
    "\n",
    "Where the parameters are:\n",
    "- $\\beta$ expected amount of people an infected person infects per day\n",
    "- $\\gamma$ the proportion of infected people recovering per day ($\\gamma$ = 1/D)\n",
    "- $\\delta$ expected rate that exposed people turn into infected\n",
    "\n",
    "As seen above, SEIR also considers the disease's death rate negligible. It's also notable that it has very similar equations to SIR. Besides adding an equation that represents the exposed population, SEIR also has differences in the infected population equation.\n",
    "\n",
    "While SIR considered the difference between **the amount of individuals infected by and infected person** and the amount of infected individuals recovering per day, SEIR considers the difference between **the amount of exposed individuals turned into infected** and the amount of infected individuals recovering per day.\n",
    "\n",
    "When conceptually analyzing the meaning of each compartment, it becomes very simple to understand this change in the equation.\n"
   ]
  },
  {
   "cell_type": "markdown",
   "metadata": {},
   "source": [
    "## Covid-19 SEIR model stock and flow diagram \n",
    "![covid-19 SEIR model mechanism](images/covid-19_seir_model_stock_flow.png)"
   ]
  },
  {
   "cell_type": "markdown",
   "metadata": {},
   "source": [
    "## Covid-19 SEIR model mechanism\n",
    "![covid-19 SIR model mechanism](images/covid-19_seir_model.png)"
   ]
  },
  {
   "cell_type": "markdown",
   "metadata": {},
   "source": [
    "As analytically shown by the equations, the difference between both models' mechanisms is that SEIR has an exposed growth behavior that triggers a decrease in the susceptible population and an increase in the exposed population. Besides that, infected growth causes a decrease in the exposed population, differently from SIR, where it decreased the susceptible one."
   ]
  },
  {
   "cell_type": "code",
   "execution_count": null,
   "metadata": {},
   "outputs": [],
   "source": [
    "df = experiments.dataset[1] \n",
    "fig, ax = plt.subplots()\n",
    "plt.rcParams[\"figure.figsize\"]=20,5\n",
    "ax.plot(df['timestep'], df['exposed'], label='exposed')\n",
    "ax.plot(df['timestep'], df['susceptible'], label='susceptible')\n",
    "ax.plot(df['timestep'], df['infected'], label='infected'   )\n",
    "ax.plot(df['timestep'], df['recovered'], label='recovered')\n",
    "box = ax.get_position()\n",
    "ax.set_position([box.x0, box.y0, box.width * 0.8, box.height])\n",
    "\n",
    "# Put a legend to the right of the current axis\n",
    "ax.legend(loc='center left', bbox_to_anchor=(1, 0.5))\n",
    "\n",
    "ax.set_xlabel(\"Time (days)\")\n",
    "ax.set_ylabel(\"People\")\n",
    "plt.show()"
   ]
  },
  {
   "cell_type": "markdown",
   "metadata": {},
   "source": [
    "# Covid-19 SEIRD model\n",
    "\n",
    "As we know, Covid-19 is a disease with a significant death rate (around 5% worldwide). Because of that, SIR and SEIR models can be considerably inaccurate. Therefore, the SEIRD model can better represent Covid-19, as it includes individuals who died because of the disease in compartment **D**.\n",
    "\n",
    "The SEIRD model is based on the following equations:\n",
    "\n",
    "\\begin{aligned}{\\frac {d}{dt}Susceptible}&= - \\beta * Infected * {\\frac {Susceptible}{Total Population}}\n",
    "\\\\{\\frac {d}{dt}Exposed}&=\\beta * Infected * {\\frac {Susceptible}{Total Population}} - \\delta * Exposed \n",
    "\\\\{\\frac{d}{dt}Infected}&=\\delta * Exposed - (1 - \\alpha) * \\gamma * Infected - \\alpha * \\rho * Infected\n",
    "\\\\{\\frac {d}{dt}Recovered}&= (1 - \\alpha) * \\gamma *Infected\n",
    "\\\\{\\frac {d}{dt}Dead}&=\\alpha * \\rho * Infected\\end{aligned}\n",
    "\n",
    "Where the parameters are:\n",
    "- $\\beta$ expected amount of people an infected person infects per day\n",
    "- $\\gamma$ the proportion of infected recovering per day ($\\gamma$ = 1 / D)\n",
    "- $\\delta$ expected rate that exposed people turn into infected\n",
    "- $\\rho$ rate at which infected people die per day ($\\rho$ = 1 / D)\n",
    "- $\\alpha$ death probability\n",
    "- $R₀$: the total number of people an infected person infects (R₀ = β / γ)\n",
    "\n",
    "We can again see that the equations are similar to the previous models. Besides including a death population equation, the differences occur in the infected and recovered ones, where **death rate is now considered**."
   ]
  },
  {
   "cell_type": "markdown",
   "metadata": {},
   "source": [
    "## Covid-19 SEIRD model stock and flow diagram \n",
    "![covid-19 SEIRD model mechanism](images/covid-19_seird_model_stock_flow.png)"
   ]
  },
  {
   "cell_type": "markdown",
   "metadata": {},
   "source": [
    "As seen in the flowchart, now the population in the infected stock can flow to two population stocks (dead or recovered)."
   ]
  },
  {
   "cell_type": "markdown",
   "metadata": {},
   "source": [
    "## Covid-19 SEIRD model mechanism \n",
    "![covid-19 SEIRD model mechanism](images/covid-19_seird_model.png)"
   ]
  },
  {
   "cell_type": "code",
   "execution_count": null,
   "metadata": {},
   "outputs": [],
   "source": [
    "df = experiments.dataset[2] \n",
    "fig, ax = plt.subplots()\n",
    "plt.rcParams[\"figure.figsize\"]=20,5\n",
    "ax.plot(df['timestep'], df['exposed'], label='exposed')\n",
    "ax.plot(df['timestep'], df['susceptible'], label='susceptible')\n",
    "ax.plot(df['timestep'], df['infected'], label='infected'   )\n",
    "ax.plot(df['timestep'], df['recovered'], label='recovered')\n",
    "ax.plot(df['timestep'], df['dead'], label='dead')\n",
    "box = ax.get_position()\n",
    "ax.set_position([box.x0, box.y0, box.width * 0.8, box.height])\n",
    "\n",
    "# Put a legend to the right of the current axis\n",
    "ax.legend(loc='center left', bbox_to_anchor=(1, 0.5))\n",
    "\n",
    "ax.set_xlabel(\"Time (days)\")\n",
    "ax.set_ylabel(\"People\")\n",
    "plt.show()"
   ]
  },
  {
   "cell_type": "markdown",
   "metadata": {},
   "source": [
    "### Covid-19 SEIRD model with time variant R₀\n",
    "\n",
    "This is the standard introductory model for Covid-19 spread. It is based on the following equations:\n",
    "\n",
    "\\begin{aligned}{\\frac {d}{dt}Susceptible}&= - \\beta * Infected * {\\frac {Susceptible}{Total Population}}\n",
    "\\\\{\\frac {d}{dt}Exposed}&=\\beta * Infected * {\\frac {Susceptible}{Total Population}} - \\delta * Exposed \n",
    "\\\\{\\frac{d}{dt}Infected}&=\\delta * Exposed - (1 - \\alpha) * \\gamma * Infected - \\alpha * \\rho * Infected\n",
    "\\\\{\\frac {d}{dt}Recovered}&= (1 - \\alpha) * \\gamma *Infected\n",
    "\\\\{\\frac {d}{dt}Dead}&=\\alpha * \\rho * Infected\\end{aligned}\n",
    "\n",
    "Where the parameters are:\n",
    "- $\\beta$ expected amount of people an infected person infects per day\n",
    "- $\\gamma$ the proportion of infected recovering per day ($\\gamma$ = 1 / D)\n",
    "- $\\delta$ expected rate that exposed people turn into infected\n",
    "- $\\rho$ rate at wich infected people die per day ($\\rho$ = 1 / D)\n",
    "- $\\alpha$ death probability\n",
    "- $R₀$: the total number of people an infected person infects (R₀ = β / γ)\n"
   ]
  },
  {
   "cell_type": "code",
   "execution_count": null,
   "metadata": {
    "scrolled": true
   },
   "outputs": [],
   "source": [
    "df = experiments.dataset[3] \n",
    "fig, ax = plt.subplots()\n",
    "plt.rcParams[\"figure.figsize\"]=20,5\n",
    "ax.plot(df['timestep'], df['exposed'], label='exposed')\n",
    "ax.plot(df['timestep'], df['susceptible'], label='susceptible')\n",
    "ax.plot(df['timestep'], df['infected'], label='infected'   )\n",
    "ax.plot(df['timestep'], df['recovered'], label='recovered')\n",
    "ax.plot(df['timestep'], df['dead'], label='dead')\n",
    "box = ax.get_position()\n",
    "ax.set_position([box.x0, box.y0, box.width * 0.8, box.height])\n",
    "\n",
    "# Put a legend to the right of the current axis\n",
    "ax.legend(loc='center left', bbox_to_anchor=(1, 0.5))\n",
    "\n",
    "ax.set_xlabel(\"Time (days)\")\n",
    "ax.set_ylabel(\"People\")\n",
    "plt.show()"
   ]
  },
  {
   "cell_type": "markdown",
   "metadata": {},
   "source": [
    "### Conclusions and final words"
   ]
  },
  {
   "cell_type": "markdown",
   "metadata": {},
   "source": [
    "### Proposed challenges\n",
    "\n",
    "#### Make R₀ time dependent\n",
    "\n",
    "\n",
    "#### Variable death rate\n",
    "\n",
    "\n",
    "\n",
    "#### Stochasticity of the parameters\n",
    "\n",
    "\n",
    "\n",
    "#### Add real data\n",
    "\n"
   ]
  }
 ],
 "metadata": {
  "kernelspec": {
   "display_name": "Python 3",
   "language": "python",
   "name": "python3"
  },
  "language_info": {
   "codemirror_mode": {
    "name": "ipython",
    "version": 3
   },
   "file_extension": ".py",
   "mimetype": "text/x-python",
   "name": "python",
   "nbconvert_exporter": "python",
   "pygments_lexer": "ipython3",
   "version": "3.6.8"
  }
 },
 "nbformat": 4,
 "nbformat_minor": 4
}
